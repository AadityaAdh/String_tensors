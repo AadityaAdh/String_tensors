{
  "nbformat": 4,
  "nbformat_minor": 0,
  "metadata": {
    "colab": {
      "provenance": [],
      "authorship_tag": "ABX9TyOh2P6CsUXZaWq4baJjhNa2",
      "include_colab_link": true
    },
    "kernelspec": {
      "name": "python3",
      "display_name": "Python 3"
    },
    "language_info": {
      "name": "python"
    }
  },
  "cells": [
    {
      "cell_type": "markdown",
      "metadata": {
        "id": "view-in-github",
        "colab_type": "text"
      },
      "source": [
        "<a href=\"https://colab.research.google.com/github/AadityaAdh/String_tensors/blob/main/String_Tensors.ipynb\" target=\"_parent\"><img src=\"https://colab.research.google.com/assets/colab-badge.svg\" alt=\"Open In Colab\"/></a>"
      ]
    },
    {
      "cell_type": "code",
      "execution_count": null,
      "metadata": {
        "id": "wVl8Fy-oshSL"
      },
      "outputs": [],
      "source": [
        "import tensorflow as tf"
      ]
    },
    {
      "cell_type": "markdown",
      "source": [
        "yo vanya chai tensor vitra numeric value na hali kana string haru chai halni\n",
        "\n"
      ],
      "metadata": {
        "id": "2KcreZd2s1km"
      }
    },
    {
      "cell_type": "code",
      "source": [
        "tf.constant([\"hello\",\"i am  \",\"human\"])\n",
        "#note string ko aagadi b aauxa"
      ],
      "metadata": {
        "colab": {
          "base_uri": "https://localhost:8080/"
        },
        "id": "0CoRdRLAsory",
        "outputId": "fbf7bde6-4f3b-4811-b0c1-7beb464269cf"
      },
      "execution_count": null,
      "outputs": [
        {
          "output_type": "execute_result",
          "data": {
            "text/plain": [
              "<tf.Tensor: shape=(3,), dtype=string, numpy=array([b'hello', b'i am  ', b'human'], dtype=object)>"
            ]
          },
          "metadata": {},
          "execution_count": 3
        }
      ]
    },
    {
      "cell_type": "markdown",
      "source": [
        "yedi kunai numeric values vako tensor haru xa aaba teslai string tensor ma convert garnu paryo vanae\n",
        "\n",
        "tf.strings.as_string(your tensor)\n",
        "\n"
      ],
      "metadata": {
        "id": "um1kJMk4teHl"
      }
    },
    {
      "cell_type": "code",
      "source": [
        "t=tf.constant([1,2,3,4])\n",
        "t"
      ],
      "metadata": {
        "colab": {
          "base_uri": "https://localhost:8080/"
        },
        "id": "GnpqQsyWtUxA",
        "outputId": "d35073ea-3bdf-4680-c85a-05c322945ce7"
      },
      "execution_count": null,
      "outputs": [
        {
          "output_type": "execute_result",
          "data": {
            "text/plain": [
              "<tf.Tensor: shape=(4,), dtype=int32, numpy=array([1, 2, 3, 4], dtype=int32)>"
            ]
          },
          "metadata": {},
          "execution_count": 10
        }
      ]
    },
    {
      "cell_type": "code",
      "source": [
        "tf.strings.as_string(t)"
      ],
      "metadata": {
        "colab": {
          "base_uri": "https://localhost:8080/"
        },
        "id": "XFWuXps0t5Da",
        "outputId": "b784510b-19b1-4a99-807e-d3052ab11a16"
      },
      "execution_count": null,
      "outputs": [
        {
          "output_type": "execute_result",
          "data": {
            "text/plain": [
              "<tf.Tensor: shape=(4,), dtype=string, numpy=array([b'1', b'2', b'3', b'4'], dtype=object)>"
            ]
          },
          "metadata": {},
          "execution_count": 11
        }
      ]
    },
    {
      "cell_type": "markdown",
      "source": [
        "#yedi join garna man lage tf.strings.join\n",
        "\n",
        "\n",
        "Perform element-wise concatenation of a list of string tensors.\n",
        "\n",
        "Given a list of string tensors of same shape, performs element-wise concatenation of the strings of the same index in all tensors."
      ],
      "metadata": {
        "id": "C5AUJNJKu8zG"
      }
    },
    {
      "cell_type": "code",
      "source": [
        "tf.strings.join(['abc','def']).numpy()\n",
        "\n",
        "\n"
      ],
      "metadata": {
        "colab": {
          "base_uri": "https://localhost:8080/"
        },
        "id": "YbkGHRaOuhEy",
        "outputId": "b93fe7ed-cace-427c-917a-20d2feb8e75c"
      },
      "execution_count": null,
      "outputs": [
        {
          "output_type": "execute_result",
          "data": {
            "text/plain": [
              "b'abcdef'"
            ]
          },
          "metadata": {},
          "execution_count": 12
        }
      ]
    },
    {
      "cell_type": "code",
      "source": [
        "tf.strings.join([['abc','123'],\n",
        "                 ['def','456'],\n",
        "                 ['ghi','789']]).numpy()\n",
        "\n"
      ],
      "metadata": {
        "colab": {
          "base_uri": "https://localhost:8080/"
        },
        "id": "l_T8ezhixiRr",
        "outputId": "3b2ccf17-70c8-4baf-ad38-9e8e84d6a69a"
      },
      "execution_count": null,
      "outputs": [
        {
          "output_type": "execute_result",
          "data": {
            "text/plain": [
              "array([b'abcdefghi', b'123456789'], dtype=object)"
            ]
          },
          "metadata": {},
          "execution_count": 13
        }
      ]
    },
    {
      "cell_type": "code",
      "source": [
        "tf.strings.join([['abc','123'],\n",
        "                 ['def','456']],\n",
        "                 separator=\" b\").numpy()\n",
        "#seperator vanya join garda duita element ko bich ma k rakhni"
      ],
      "metadata": {
        "colab": {
          "base_uri": "https://localhost:8080/"
        },
        "id": "iq5FjsvfxlFP",
        "outputId": "534be22d-b2b5-40b8-e40b-dbd2b4a1a2f3"
      },
      "execution_count": null,
      "outputs": [
        {
          "output_type": "execute_result",
          "data": {
            "text/plain": [
              "array([b'abc bdef', b'123 b456'], dtype=object)"
            ]
          },
          "metadata": {},
          "execution_count": 15
        }
      ]
    },
    {
      "cell_type": "code",
      "source": [
        "a=tf.constant([\"hello\",\"hi\",\"namaskar\",\"namaste\"],shape=[2,1,2])\n",
        "a"
      ],
      "metadata": {
        "colab": {
          "base_uri": "https://localhost:8080/"
        },
        "id": "TeYA4IqOxoCh",
        "outputId": "71ae7055-60f4-46c4-ff5f-76e658280e11"
      },
      "execution_count": null,
      "outputs": [
        {
          "output_type": "execute_result",
          "data": {
            "text/plain": [
              "<tf.Tensor: shape=(2, 1, 2), dtype=string, numpy=\n",
              "array([[[b'hello', b'hi']],\n",
              "\n",
              "       [[b'namaskar', b'namaste']]], dtype=object)>"
            ]
          },
          "metadata": {},
          "execution_count": 19
        }
      ]
    },
    {
      "cell_type": "code",
      "source": [
        "tf.strings.join(a)"
      ],
      "metadata": {
        "colab": {
          "base_uri": "https://localhost:8080/"
        },
        "id": "bMM2eQuhyDiG",
        "outputId": "28660700-da18-4edc-b19e-ae6fe7714a99"
      },
      "execution_count": null,
      "outputs": [
        {
          "output_type": "execute_result",
          "data": {
            "text/plain": [
              "<tf.Tensor: shape=(1, 2), dtype=string, numpy=array([[b'hellonamaskar', b'hinamaste']], dtype=object)>"
            ]
          },
          "metadata": {},
          "execution_count": 20
        }
      ]
    },
    {
      "cell_type": "code",
      "source": [
        "#jati dimension vayae ni matrix vitra xire ra index same(column ko index vanya) vako jodxa"
      ],
      "metadata": {
        "id": "4WZi1zfcyMzb"
      },
      "execution_count": null,
      "outputs": []
    },
    {
      "cell_type": "markdown",
      "source": [
        "#note;yeutai matrix vitra jodi raa xa"
      ],
      "metadata": {
        "id": "q4r_v9gtzNvY"
      }
    },
    {
      "cell_type": "code",
      "source": [],
      "metadata": {
        "id": "oDBTarIpzSX9"
      },
      "execution_count": null,
      "outputs": []
    }
  ]
}